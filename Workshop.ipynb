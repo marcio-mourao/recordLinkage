{
 "cells": [
  {
   "cell_type": "markdown",
   "metadata": {
    "nbpresent": {
     "id": "f77e2465-07f3-4ad0-ab0b-970cc19da161"
    }
   },
   "source": [
    "# <center> RECORD LINKAGE IN PYTHON <br/><br/> CSCAR WORKSHOP <br/><br/> 12/08/2017\n",
    "## <center> Marcio Mourao"
   ]
  },
  {
   "cell_type": "markdown",
   "metadata": {
    "collapsed": true
   },
   "source": [
    "# <center> Setup for Anaconda / Jupyter Notebook\n",
    "\n",
    "<ul>\n",
    "    <li>Go to the page https://marcio-mourao.github.io/</li>\n",
    "    <li>Download the Python notebook under \"Record Linkage\" to your \"username/Documents\"</li><br/>\n",
    "    \n",
    "    <li>Click the Windows button (Bottom Left Corner)</li>\n",
    "    <li>Click \"All apps\"</li>\n",
    "    <li>Click \"Anaconda3\"</li>\n",
    "    <li>Click \"Anaconda Prompt\" </li>\n",
    "    <li>Enter \"pip install recordlinkage\"</li>\n",
    "    <br/>\n",
    "    \n",
    "    <li>Click the Windows button (Bottom Left Corner)</li>\n",
    "    <li>Click \"All apps\"</li>\n",
    "    <li>Click \"Anaconda3\"</li>\n",
    "    <li>Click \"Jupyter Notebook\" </li><br/>\n",
    "    <li>Click \"Workshop.ipynb\" (this should open a new tab in the browser)</li>\n",
    "</ul>"
   ]
  },
  {
   "cell_type": "markdown",
   "metadata": {},
   "source": [
    "# <center> Introduction\n",
    "\n",
    "<ul>\n",
    "  <li>Don't forget to go to: http://cscar.research.umich.edu/ to know what we're offering!</li>\n",
    "  <li>Any questions/feedback, you can send an email to <a href=\"mailto:mdam@umich.edu\" target=\"_top\">Marcio</a>\n",
    "</ul>"
   ]
  },
  {
   "cell_type": "markdown",
   "metadata": {},
   "source": [
    "# <center> References\n",
    "\n",
    "<ul>\n",
    "  <li>https://www.continuum.io/anaconda-overview</li>\n",
    "  <li>http://www.numpy.org/</li>\n",
    "  <li>http://pandas.pydata.org/pandas-docs/stable/generated/pandas.DataFrame.html</li>\n",
    "  <li>http://pandas.pydata.org/pandas-docs/stable/10min.html</li>\n",
    "  <li>https://pypi.python.org/pypi/recordlinkage/</li>\n",
    "</ul>"
   ]
  },
  {
   "cell_type": "markdown",
   "metadata": {},
   "source": [
    "# <center>What is record linkage?\n",
    "\n",
    "The term record linkage is used to indicate the procedure of bringing together information from two or more records that are believed to belong to the same entity. Record linkage is used to link data from multiple data sources or to find duplicates in a single data source. In computer science, record linkage is also known as data matching or deduplication (in case of search duplicate records within a single file)."
   ]
  },
  {
   "cell_type": "markdown",
   "metadata": {},
   "source": [
    "# <center> Main features of the Python Record Linkage Toolkit\n",
    "\n",
    "<ul>\n",
    "    <li>Clean and standardise data with easy to use tools</li>\n",
    "    <li>Make pairs of records with smart indexing methods such as blocking and sorted neighbourhood indexing</li>\n",
    "    <li>Compare records with a large number of comparison and similarity measures for different types of variables such as strings, numbers and dates</li>\n",
    "    <li>Several classifications algorithms, both supervised and unsupervised algorithms</li>\n",
    "    <li>Common record linkage evaluation tools</li>\n",
    "    <li>Several built-in datasets</li>\n",
    "</ul>"
   ]
  },
  {
   "cell_type": "markdown",
   "metadata": {},
   "source": [
    "# <center> Advantages and Disadvantages"
   ]
  },
  {
   "cell_type": "markdown",
   "metadata": {},
   "source": [
    "### Advantages\n",
    "<ul>\n",
    "    <li>Understandability </li>\n",
    "    <li>Usability </li>\n",
    "    <li>Extensibility </li>\n",
    "</ul>\n",
    "\n",
    "### Disadvantages\n",
    "<ul>\n",
    "    <li>The Python Record Linkage Toolkit is NOT developed with speed in mind</li>\n",
    "    <li>The toolkit is useful for linking small or medium sized files</li>\n",
    "</ul>"
   ]
  },
  {
   "cell_type": "markdown",
   "metadata": {},
   "source": [
    "# <center> Summary of this workshop\n",
    "\n",
    "<ul>\n",
    "  <li>Summary of Python Data Types</li>\n",
    "  <li>Load and describe the datasets</li>\n",
    "  <li>Make Record Pairs or Indexing</li>\n",
    "  <li>Compare record pairs</li>\n",
    "  <li>Classify Record Pairs</li>\n",
    "</ul>\n",
    "\n"
   ]
  },
  {
   "cell_type": "markdown",
   "metadata": {},
   "source": [
    "## Import relevant general modules"
   ]
  },
  {
   "cell_type": "code",
   "execution_count": null,
   "metadata": {
    "collapsed": true,
    "nbpresent": {
     "id": "56b6dfff-16a3-4ab8-b0cb-497226d0e34f"
    }
   },
   "outputs": [],
   "source": [
    "import numpy as np\n",
    "import pandas as pd\n",
    "import recordlinkage"
   ]
  },
  {
   "cell_type": "code",
   "execution_count": null,
   "metadata": {},
   "outputs": [],
   "source": [
    "import sys\n",
    "print(sys.version)\n",
    "\n",
    "print(np.__version__)\n",
    "print(pd.__version__)\n",
    "print(recordlinkage.__version__)"
   ]
  },
  {
   "cell_type": "markdown",
   "metadata": {},
   "source": [
    "## Summary of Python Data Types"
   ]
  },
  {
   "cell_type": "markdown",
   "metadata": {},
   "source": [
    "### Python Simple Data Types\n",
    "##### Integers\n",
    "##### Floats\n",
    "##### Strings\n",
    "##### Booleans"
   ]
  },
  {
   "cell_type": "markdown",
   "metadata": {},
   "source": [
    "### Relevant Python Data Structures"
   ]
  },
  {
   "cell_type": "markdown",
   "metadata": {},
   "source": [
    "### Lists"
   ]
  },
  {
   "cell_type": "code",
   "execution_count": null,
   "metadata": {},
   "outputs": [],
   "source": [
    "#Defines one small list and common operations on it\n",
    "example_list = [2,4,'fg',8,3]\n",
    "\n",
    "print(example_list[0])\n",
    "print(example_list[2:4])\n",
    "\n",
    "example_list[2]=20 # modifying element of the list\n",
    "print(example_list)"
   ]
  },
  {
   "cell_type": "markdown",
   "metadata": {},
   "source": [
    "### Numpy arrays"
   ]
  },
  {
   "cell_type": "code",
   "execution_count": null,
   "metadata": {},
   "outputs": [],
   "source": [
    "#Defines one small numpy array and common operations on it\n",
    "example_array = np.array([2,4,'4',8,10])\n",
    "\n",
    "print(example_array[0])\n",
    "print(example_array[2:4])\n",
    "\n",
    "example_array[2]='20' # modifying element of the list\n",
    "print(example_array)"
   ]
  },
  {
   "cell_type": "markdown",
   "metadata": {},
   "source": [
    "### Pandas Series\n",
    "#### A one dimensional labeled array"
   ]
  },
  {
   "cell_type": "code",
   "execution_count": null,
   "metadata": {},
   "outputs": [],
   "source": [
    "#Defines one small pandas series and common operations on it\n",
    "example_dictionary = {'A':20,'B':40,'C':60,'D':55}\n",
    "example_series = pd.Series(example_dictionary)\n",
    "\n",
    "print(example_series)\n",
    "print(example_series[0])\n",
    "print(example_series['B':])"
   ]
  },
  {
   "cell_type": "markdown",
   "metadata": {},
   "source": [
    "### Pandas Dataframes\n",
    "#### A two-dimensional labeled data structure with columns of potentially different types"
   ]
  },
  {
   "cell_type": "code",
   "execution_count": null,
   "metadata": {},
   "outputs": [],
   "source": [
    "#Creation of a dataframe with a list\n",
    "aux=[['ds',1.0],\n",
    "     ['as',3],\n",
    "     ['bq',5]]\n",
    "\n",
    "example_DF = pd.DataFrame(aux,index=['Row1','Row2','Row3'],columns=['Col1','Col2'])\n",
    "example_DF"
   ]
  },
  {
   "cell_type": "code",
   "execution_count": null,
   "metadata": {},
   "outputs": [],
   "source": [
    "#Check types\n",
    "print(type(example_DF))\n",
    "example_DF.dtypes"
   ]
  },
  {
   "cell_type": "markdown",
   "metadata": {},
   "source": [
    "## Load and describe the datasets"
   ]
  },
  {
   "cell_type": "code",
   "execution_count": null,
   "metadata": {
    "collapsed": true
   },
   "outputs": [],
   "source": [
    "#Import function to use in order to load example datasets\n",
    "from recordlinkage.datasets import load_febrl4"
   ]
  },
  {
   "cell_type": "code",
   "execution_count": null,
   "metadata": {
    "collapsed": true
   },
   "outputs": [],
   "source": [
    "#Obtain the two dataframes\n",
    "dfA, dfB = load_febrl4()"
   ]
  },
  {
   "cell_type": "code",
   "execution_count": null,
   "metadata": {},
   "outputs": [],
   "source": [
    "#Obtains the number of lines and columns of the first dataframe\n",
    "dfA.shape"
   ]
  },
  {
   "cell_type": "code",
   "execution_count": null,
   "metadata": {},
   "outputs": [],
   "source": [
    "#Obtains the number of lines and columns of the second dataframe\n",
    "dfB.shape"
   ]
  },
  {
   "cell_type": "code",
   "execution_count": null,
   "metadata": {},
   "outputs": [],
   "source": [
    "dfA.head()"
   ]
  },
  {
   "cell_type": "code",
   "execution_count": null,
   "metadata": {},
   "outputs": [],
   "source": [
    "dfB.head()"
   ]
  },
  {
   "cell_type": "code",
   "execution_count": null,
   "metadata": {},
   "outputs": [],
   "source": [
    "#Obtains the dataframe main types\n",
    "dfA.dtypes"
   ]
  },
  {
   "cell_type": "code",
   "execution_count": null,
   "metadata": {},
   "outputs": [],
   "source": [
    "#Provides a statistical summary of the dataframe\n",
    "dfA.describe()"
   ]
  },
  {
   "cell_type": "code",
   "execution_count": null,
   "metadata": {},
   "outputs": [],
   "source": [
    "#Summarizes just the column 'surname\n",
    "dfA['surname'].describe()"
   ]
  },
  {
   "cell_type": "code",
   "execution_count": null,
   "metadata": {},
   "outputs": [],
   "source": [
    "#Exemplify use of clean and phonetic methods\n",
    "from recordlinkage.standardise import clean, phonetic\n",
    "\n",
    "dfA_aux = pd.DataFrame()\n",
    "dfA_aux['given_name'] = clean(dfA['given_name'])\n",
    "dfA_aux['given_name'] = phonetic(dfA['given_name'], method = 'soundex')\n",
    "dfA_aux.head(10)"
   ]
  },
  {
   "cell_type": "markdown",
   "metadata": {},
   "source": [
    "## Make Record Pairs or Indexing"
   ]
  },
  {
   "cell_type": "code",
   "execution_count": null,
   "metadata": {
    "collapsed": true
   },
   "outputs": [],
   "source": [
    "?recordlinkage.FullIndex"
   ]
  },
  {
   "cell_type": "code",
   "execution_count": null,
   "metadata": {},
   "outputs": [],
   "source": [
    "?indexer.index"
   ]
  },
  {
   "cell_type": "code",
   "execution_count": null,
   "metadata": {},
   "outputs": [],
   "source": [
    "#Full index method\n",
    "indexer = recordlinkage.FullIndex() # first load the FullIndex class\n",
    "pairs = indexer.index(dfA, dfB) # then create all possible and unique record pairs"
   ]
  },
  {
   "cell_type": "code",
   "execution_count": null,
   "metadata": {},
   "outputs": [],
   "source": [
    "#Summarize pairs\n",
    "print(type(pairs))\n",
    "print(pairs[0],pairs[1])\n",
    "print(len(pairs))\n",
    "print(dfA.shape[0]*dfB.shape[0])"
   ]
  },
  {
   "cell_type": "code",
   "execution_count": null,
   "metadata": {
    "collapsed": true
   },
   "outputs": [],
   "source": [
    "?recordlinkage.SortedNeighbourhoodIndex"
   ]
  },
  {
   "cell_type": "code",
   "execution_count": null,
   "metadata": {},
   "outputs": [],
   "source": [
    "#Neighbourhood method\n",
    "indexer = recordlinkage.SortedNeighbourhoodIndex(on='given_name', window=3)\n",
    "pairs = indexer.index(dfA, dfB)\n",
    "\n",
    "print(pairs[0],pairs[1])\n",
    "print(len(pairs)) "
   ]
  },
  {
   "cell_type": "code",
   "execution_count": null,
   "metadata": {
    "collapsed": true
   },
   "outputs": [],
   "source": [
    "?recordlinkage.BlockIndex"
   ]
  },
  {
   "cell_type": "code",
   "execution_count": null,
   "metadata": {},
   "outputs": [],
   "source": [
    "#Blocking method\n",
    "indexer = recordlinkage.BlockIndex(on='given_name')\n",
    "pairs = indexer.index(dfA, dfB)\n",
    "\n",
    "print(pairs[0],pairs[1])\n",
    "print(len(pairs)) # Notice the reduction on the number of pairs in relation to using the NeighbourhoodIndex class"
   ]
  },
  {
   "cell_type": "code",
   "execution_count": null,
   "metadata": {},
   "outputs": [],
   "source": [
    "#Just a test to compare the names\n",
    "print(dfA.loc['rec-1070-org','given_name'])\n",
    "print(dfB.loc['rec-3024-dup-0','given_name'])\n",
    "print(sum(dfA['given_name']=='michaela'))\n",
    "print(sum(dfB['given_name']=='michaela'))"
   ]
  },
  {
   "cell_type": "markdown",
   "metadata": {},
   "source": [
    "## Compare record pairs"
   ]
  },
  {
   "cell_type": "code",
   "execution_count": null,
   "metadata": {
    "collapsed": true
   },
   "outputs": [],
   "source": [
    "#Create class compare\n",
    "compare_cl = recordlinkage.Compare()"
   ]
  },
  {
   "cell_type": "code",
   "execution_count": null,
   "metadata": {
    "collapsed": true
   },
   "outputs": [],
   "source": [
    "#Check exact and string methods for comparison of record attributes\n",
    "?compare_cl.string"
   ]
  },
  {
   "cell_type": "code",
   "execution_count": null,
   "metadata": {
    "collapsed": true
   },
   "outputs": [],
   "source": [
    "compare_cl.exact('given_name', 'given_name', label='given_name')\n",
    "compare_cl.string('surname', 'surname', method='jarowinkler', threshold=0.85, label='surname')\n",
    "compare_cl.exact('date_of_birth', 'date_of_birth', label='date_of_birth')\n",
    "compare_cl.exact('suburb', 'suburb', label='suburb')\n",
    "compare_cl.exact('state', 'state', label='state')\n",
    "compare_cl.string('address_1', 'address_1', threshold=0.85, label='address_1')\n",
    "\n",
    "features = compare_cl.compute(pairs, dfA, dfB)"
   ]
  },
  {
   "cell_type": "code",
   "execution_count": null,
   "metadata": {},
   "outputs": [],
   "source": [
    "#Check pairs at the top\n",
    "features.head(50)"
   ]
  },
  {
   "cell_type": "code",
   "execution_count": null,
   "metadata": {},
   "outputs": [],
   "source": [
    "#Summarize results from comparing records\n",
    "features.describe()"
   ]
  },
  {
   "cell_type": "code",
   "execution_count": null,
   "metadata": {},
   "outputs": [],
   "source": [
    "#Sum the comparison results\n",
    "features.sum(axis=1).value_counts().sort_index(ascending=False)"
   ]
  },
  {
   "cell_type": "code",
   "execution_count": null,
   "metadata": {},
   "outputs": [],
   "source": [
    "#Obtain a subselection of the features dataframe with large scores\n",
    "features[features.sum(axis=1)>5].head()"
   ]
  },
  {
   "cell_type": "markdown",
   "metadata": {},
   "source": [
    "## Classify Record Pairs"
   ]
  },
  {
   "cell_type": "code",
   "execution_count": null,
   "metadata": {
    "collapsed": true
   },
   "outputs": [],
   "source": [
    "#Import another dataset\n",
    "from recordlinkage.datasets import load_krebsregister"
   ]
  },
  {
   "cell_type": "code",
   "execution_count": null,
   "metadata": {
    "collapsed": true
   },
   "outputs": [],
   "source": [
    "?load_krebsregister"
   ]
  },
  {
   "cell_type": "code",
   "execution_count": null,
   "metadata": {},
   "outputs": [],
   "source": [
    "krebs_data, krebs_match = load_krebsregister(missing_values = 0)\n",
    "krebs_data.head()"
   ]
  },
  {
   "cell_type": "code",
   "execution_count": null,
   "metadata": {},
   "outputs": [],
   "source": [
    "krebs_data.shape"
   ]
  },
  {
   "cell_type": "code",
   "execution_count": null,
   "metadata": {},
   "outputs": [],
   "source": [
    "krebs_data.describe()"
   ]
  },
  {
   "cell_type": "code",
   "execution_count": null,
   "metadata": {},
   "outputs": [],
   "source": [
    "krebs_data.index[0:2].get_values()"
   ]
  },
  {
   "cell_type": "code",
   "execution_count": null,
   "metadata": {},
   "outputs": [],
   "source": [
    "len(krebs_match)"
   ]
  },
  {
   "cell_type": "code",
   "execution_count": null,
   "metadata": {},
   "outputs": [],
   "source": [
    "krebs_match.get_values()"
   ]
  },
  {
   "cell_type": "markdown",
   "metadata": {},
   "source": [
    "#### Logistic Regression - Supervised Approach"
   ]
  },
  {
   "cell_type": "code",
   "execution_count": null,
   "metadata": {
    "collapsed": true
   },
   "outputs": [],
   "source": [
    "#Set training data for the supervised approach\n",
    "krebs_data_train = krebs_data[0:5000]\n",
    "krebs_match_train = krebs_data_train.index & krebs_match"
   ]
  },
  {
   "cell_type": "code",
   "execution_count": null,
   "metadata": {},
   "outputs": [],
   "source": [
    "?logreg.learn"
   ]
  },
  {
   "cell_type": "code",
   "execution_count": null,
   "metadata": {},
   "outputs": [],
   "source": [
    "#Initialize the classifier\n",
    "logreg = recordlinkage.LogisticRegressionClassifier()\n",
    "\n",
    "#Train the classifier\n",
    "lr = logreg.learn(krebs_data_train, krebs_match_train)\n",
    "print (\"Intercept: \", logreg.intercept)\n",
    "print (\"Coefficients: \", logreg.coefficients)"
   ]
  },
  {
   "cell_type": "code",
   "execution_count": null,
   "metadata": {
    "collapsed": true
   },
   "outputs": [],
   "source": [
    "?logreg.predict"
   ]
  },
  {
   "cell_type": "code",
   "execution_count": null,
   "metadata": {
    "collapsed": true
   },
   "outputs": [],
   "source": [
    "#Set test data for the supervised approach\n",
    "krebs_data_test = krebs_data[5000:krebs_data.shape[0]]\n",
    "krebs_match_test = krebs_data_test.index & krebs_match\n",
    "\n",
    "#Predict the match status for all record pairs\n",
    "result_logreg = logreg.predict(krebs_data_test)\n",
    "\n",
    "#Predict the probability for all record pairs\n",
    "result_logreg_prob = logreg.prob(krebs_data_test)"
   ]
  },
  {
   "cell_type": "code",
   "execution_count": null,
   "metadata": {},
   "outputs": [],
   "source": [
    "print(len(result_logreg))\n",
    "print(len(result_logreg_prob))"
   ]
  },
  {
   "cell_type": "code",
   "execution_count": null,
   "metadata": {},
   "outputs": [],
   "source": [
    "result_logreg_prob = result_logreg_prob.sort_values(ascending=False)\n",
    "result_logreg_prob.head()"
   ]
  },
  {
   "cell_type": "code",
   "execution_count": null,
   "metadata": {},
   "outputs": [],
   "source": [
    "result_logreg_prob.tail()"
   ]
  },
  {
   "cell_type": "code",
   "execution_count": null,
   "metadata": {
    "collapsed": true
   },
   "outputs": [],
   "source": [
    "?recordlinkage.confusion_matrix"
   ]
  },
  {
   "cell_type": "code",
   "execution_count": null,
   "metadata": {},
   "outputs": [],
   "source": [
    "conf_logreg = recordlinkage.confusion_matrix(krebs_match_test, result_logreg, len(krebs_data_test))\n",
    "conf_logreg"
   ]
  },
  {
   "cell_type": "code",
   "execution_count": null,
   "metadata": {},
   "outputs": [],
   "source": [
    "recordlinkage.fscore(conf_logreg)"
   ]
  },
  {
   "cell_type": "markdown",
   "metadata": {},
   "source": [
    "#### Expectation-Maximization algorithm - Unsupervised approach"
   ]
  },
  {
   "cell_type": "code",
   "execution_count": null,
   "metadata": {},
   "outputs": [],
   "source": [
    "#Train the classifier\n",
    "ecm = recordlinkage.ECMClassifier()\n",
    "result_ecm = ecm.learn((krebs_data > 0.8).astype(int))\n",
    "\n",
    "len(result_ecm)"
   ]
  },
  {
   "cell_type": "code",
   "execution_count": null,
   "metadata": {},
   "outputs": [],
   "source": [
    "conf_ecm = recordlinkage.confusion_matrix(krebs_match, result_ecm, len(krebs_data))\n",
    "conf_ecm"
   ]
  },
  {
   "cell_type": "code",
   "execution_count": null,
   "metadata": {},
   "outputs": [],
   "source": [
    "# The F-score for this classification is\n",
    "recordlinkage.fscore(conf_ecm)"
   ]
  }
 ],
 "metadata": {
  "anaconda-cloud": {},
  "kernelspec": {
   "display_name": "Python 3",
   "language": "python",
   "name": "python3"
  },
  "language_info": {
   "codemirror_mode": {
    "name": "ipython",
    "version": 3
   },
   "file_extension": ".py",
   "mimetype": "text/x-python",
   "name": "python",
   "nbconvert_exporter": "python",
   "pygments_lexer": "ipython3",
   "version": "3.6.3"
  },
  "nbpresent": {
   "slides": {
    "8ce21dab-2b7a-439c-8f0a-8a1036a1ac0d": {
     "id": "8ce21dab-2b7a-439c-8f0a-8a1036a1ac0d",
     "prev": null,
     "regions": {
      "d8401624-efe9-4853-a676-de863b4ba3cd": {
       "attrs": {
        "height": 1,
        "width": 1,
        "x": 0,
        "y": 0
       },
       "id": "d8401624-efe9-4853-a676-de863b4ba3cd"
      }
     },
     "theme": null
    }
   },
   "themes": {}
  }
 },
 "nbformat": 4,
 "nbformat_minor": 1
}
